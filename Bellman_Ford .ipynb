{
 "cells": [
  {
   "cell_type": "code",
   "execution_count": 9,
   "metadata": {},
   "outputs": [
    {
     "data": {
      "text/plain": [
       "({1: 0, 2: 50, 3: 110, 4: 120, 5: 190, 6: 245},\n",
       " {1: [1], 2: [1, 2], 3: [1, 2, 3], 4: [1, 4], 5: [1, 4, 5], 6: [1, 4, 6]})"
      ]
     },
     "execution_count": 9,
     "metadata": {},
     "output_type": "execute_result"
    }
   ],
   "source": [
    "def bellman_ford(nodes, edges, source_index=1):\n",
    "    path_lengths={v: float('inf') for v in nodes}\n",
    "    path_lengths[source_index]=0\n",
    "    \n",
    "    paths={v: [] for v in nodes}\n",
    "    paths[source_index]=[source_index]\n",
    "    \n",
    "    for _ in range(len(nodes)-1):\n",
    "        for (u,v), w_uv in edges.items():\n",
    "            if path_lengths[u]+w_uv< path_lengths[v]:\n",
    "                path_lengths[v]=path_lengths[u]+w_uv\n",
    "                paths[v]=paths[u]+[v]\n",
    "    for (u,v), w_uv in edges.items():\n",
    "        if path_lengths[u]+w_uv< path_lengths[v]:\n",
    "            print(\"Graph has a negative-weight cycle\")\n",
    "\n",
    "    return path_lengths, paths\n",
    "\n",
    "nodes=[1,2,3,4,5,6]\n",
    "edges={(1, 2):50,(2 ,1):50, (2 ,3):60, (3,2):60, (3, 4):50, (4,3):50,\n",
    "       (5,4):70, (4,5):70, (5,6):70, (6,5):70, (4,6):125, (6,4):125,\n",
    "       (1,4):120, (4,1):120}\n",
    "\n",
    "bellman_ford(nodes, edges)"
   ]
  }
 ],
 "metadata": {
  "kernelspec": {
   "display_name": "Python 3",
   "language": "python",
   "name": "python3"
  },
  "language_info": {
   "codemirror_mode": {
    "name": "ipython",
    "version": 3
   },
   "file_extension": ".py",
   "mimetype": "text/x-python",
   "name": "python",
   "nbconvert_exporter": "python",
   "pygments_lexer": "ipython3",
   "version": "3.8.5"
  }
 },
 "nbformat": 4,
 "nbformat_minor": 4
}
